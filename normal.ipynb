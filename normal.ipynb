{
 "cells": [
  {
   "cell_type": "code",
   "execution_count": 5,
   "metadata": {},
   "outputs": [],
   "source": [
    "import pandas as pd\n",
    "import matplotlib.pyplot as plt\n",
    "import numpy as np\n",
    "from numpy.linalg import inv\n",
    "import math\n",
    "df = pd.read_csv('3D_spatial_network.txt', header = None)\n",
    "\n",
    "df[1] = (df[1] - df[1].mean())/df[1].std()\n",
    "df[2] = (df[2] - df[2].mean())/df[2].std()\n",
    "df[3] = (df[3] - df[3].mean())/df[3].std()\n",
    "\n",
    "n =len(df)\n",
    "\n",
    "training_size = int(0.7 * n)\n",
    "testing_size = int(0.3 * n)\n",
    "training_size+=(n-(training_size+testing_size))\n",
    "\n",
    "x1 = df.iloc[0:training_size, 1]\n",
    "x2 = df.iloc[0:training_size, 2]\n",
    "y = df.iloc[0:training_size, 3]\n",
    "\n",
    "x1_test = df.iloc[training_size:n, 1]\n",
    "x2_test = df.iloc[training_size:n, 2]\n",
    "y_test = df.iloc[training_size:n, 3]\n",
    "# print(x1)\n",
    "# print(x1_test)"
   ]
  },
  {
   "cell_type": "code",
   "execution_count": 7,
   "metadata": {},
   "outputs": [
    {
     "name": "stdout",
     "output_type": "stream",
     "text": [
      "[ 0.00703488  0.15143549 -0.17983547]\n",
      "RMSE and R^2= (0.6781359444859384, 0.5448152351473801)\n"
     ]
    }
   ],
   "source": [
    "def rms(w0,w1,w2):\n",
    "    y_predicted_test= w0 + w1*x1_test + w2*x2_test\n",
    "    rmse=math.sqrt( (1/(2*testing_size)) * sum((y_test - y_predicted_test) ** 2 ) )\n",
    "    r2=1-(sum(y_test - y_predicted_test) ** 2 )/(sum(y_test - y.mean()) ** 2 )\n",
    "    return rmse,r2\n",
    "\n",
    "Y = df.iloc[0: training_size, 3]\n",
    "Y = Y.to_numpy()\n",
    "\n",
    "X = (df[0: training_size].to_numpy())[:, [0, 1, 2]]\n",
    "X[:, 0] = 1\n",
    "\n",
    "temp1 = np.dot(X.T, X)\n",
    "temp2 = np.linalg.inv(temp1)\n",
    "temp3 = np.dot(X.T, Y)\n",
    "\n",
    "theta = np.dot(temp2, temp3)\n",
    "w0 = theta[0]\n",
    "w1 = theta[1]\n",
    "w2 = theta[2]\n",
    "\n",
    "print(theta)\n",
    "print(\"RMSE and R^2=\", rms(w0,w1,w2))"
   ]
  }
 ],
 "metadata": {
  "kernelspec": {
   "display_name": "Python 3",
   "language": "python",
   "name": "python3"
  },
  "language_info": {
   "codemirror_mode": {
    "name": "ipython",
    "version": 3
   },
   "file_extension": ".py",
   "mimetype": "text/x-python",
   "name": "python",
   "nbconvert_exporter": "python",
   "pygments_lexer": "ipython3",
   "version": "3.7.3"
  }
 },
 "nbformat": 4,
 "nbformat_minor": 2
}
