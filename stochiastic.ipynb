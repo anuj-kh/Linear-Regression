{
 "cells": [
  {
   "cell_type": "code",
   "execution_count": 2,
   "metadata": {},
   "outputs": [],
   "source": [
    "import pandas as pd\n",
    "import matplotlib.pyplot as plt\n",
    "import numpy as np\n",
    "import math\n",
    "from numpy.linalg import inv\n",
    "df = pd.read_csv('3D_spatial_network.txt', header = None)\n",
    "df=df.drop(columns=[0])\n",
    "df[1] = (df[1] - df[1].mean())/df[1].std()\n",
    "df[2] = (df[2] - df[2].mean())/df[2].std()\n",
    "df[3] = (df[3] - df[3].mean())/df[3].std()\n",
    "\n",
    "n =len(df)\n",
    "\n",
    "training_size = int(0.7 * n)\n",
    "testing_size = int(0.3 * n)\n",
    "training_size+=(n-(training_size+testing_size))\n",
    "\n",
    "x1 = df.iloc[0:training_size, 0]\n",
    "x2 = df.iloc[0:training_size, 1]\n",
    "y = df.iloc[0:training_size, 2]\n",
    "\n",
    "x1_test = df.iloc[training_size:n, 0]\n",
    "x2_test = df.iloc[training_size:n, 1]\n",
    "y_test = df.iloc[training_size:n, 2]\n",
    "# print(x1)\n",
    "# print(x1_test)"
   ]
  },
  {
   "cell_type": "code",
   "execution_count": 3,
   "metadata": {},
   "outputs": [],
   "source": [
    "e2=[]\n",
    "w0=0;w1=0;w2=0;nu=0.01\n",
    "n = len(x1)\n",
    "for i in range(training_size):\n",
    "    y_predicted= w0 + w1*x1[i] + w2*x2[i]\n",
    "    e2.append((1/2) * (y[i] - y_predicted) ** 2 )\n",
    "    D_w0 = (-1) * (y[i] - y_predicted) \n",
    "    D_w1 = (-1) * (x1[i] * (y[i] - y_predicted))\n",
    "    D_w2 = (-1) * (x2[i] * (y[i] - y_predicted))\n",
    "    w0 = w0 - (nu * D_w0)\n",
    "    w1 = w1 - (nu * D_w1)\n",
    "    w2 = w2 - (nu * D_w2)\n",
    "\n",
    "def rms(w0,w1,w2):\n",
    "    y_predicted_test= w0 + w1*x1_test + w2*x2_test\n",
    "    rmse=math.sqrt( (1/(2*testing_size)) * sum((y_test - y_predicted_test) ** 2 ) )\n",
    "    r2=1-(sum(y_test - y_predicted_test) ** 2 )/(sum(y_test - y.mean()) ** 2 )\n",
    "    return rmse,r2"
   ]
  },
  {
   "cell_type": "code",
   "execution_count": 4,
   "metadata": {},
   "outputs": [
    {
     "data": {
      "image/png": "[encoded data removed]",
      "text/plain": [
       "<Figure size 432x288 with 1 Axes>"
      ]
     },
     "metadata": {
      "needs_background": "light"
     },
     "output_type": "display_data"
    },
    {
     "name": "stdout",
     "output_type": "stream",
     "text": [
      "Using Stochastic Gradient Descent Method:\n",
      "w0= 0.0021833349275501325 ,w1= 0.1440095011723801 ,w2= -0.057631640702873445\n",
      "RMSE at last 2 iterations= 0.2433429219563485 0.22975723724057875\n",
      "RMSE and R^2 in the testing set= (0.686545859492356, 0.5209591857475211)\n"
     ]
    }
   ],
   "source": [
    "iteration_list=[i for i in range(1,training_size)]\n",
    "plt.plot(iteration_list,e2[1:training_size])\n",
    "plt.xlabel('Iterations')\n",
    "plt.ylabel('RMSE')\n",
    "plt.title('Stochiastic Gradient Descent') \n",
    "# plt.figure(figsize=(2000,1000))\n",
    "plt.show()\n",
    "print(\"Using Stochastic Gradient Descent Method:\")\n",
    "print (\"w0=\",w0,\",w1=\",w1,\",w2=\",w2)\n",
    "print (\"RMSE at last 2 iterations=\",e2[1998],e2[1999])\n",
    "print (\"RMSE and R^2 in the testing set=\",rms(w0,w1,w2))"
   ]
  }
 ],
 "metadata": {
  "kernelspec": {
   "display_name": "Python 3",
   "language": "python",
   "name": "python3"
  },
  "language_info": {
   "codemirror_mode": {
    "name": "ipython",
    "version": 3
   },
   "file_extension": ".py",
   "mimetype": "text/x-python",
   "name": "python",
   "nbconvert_exporter": "python",
   "pygments_lexer": "ipython3",
   "version": "3.7.3"
  }
 },
 "nbformat": 4,
 "nbformat_minor": 2
}
